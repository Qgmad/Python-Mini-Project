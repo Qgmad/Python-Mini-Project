{
 "cells": [
  {
   "cell_type": "code",
   "execution_count": 1,
   "metadata": {},
   "outputs": [
    {
     "name": "stdout",
     "output_type": "stream",
     "text": [
      "Please enter your guess: 67\n",
      "Your guess is too low\n"
     ]
    }
   ],
   "source": [
    "#Random code available on the internet - V1\n",
    "import random\n",
    " \n",
    "hidden = random.randrange(1, 201)\n",
    "# print hidden\n",
    " \n",
    "guess = int(input(\"Please enter your guess: \"))\n",
    " \n",
    "if guess == hidden:\n",
    "    print (\"Hit!\")\n",
    "elif guess < hidden:\n",
    "    print (\"Your guess is too low\")\n",
    "else:\n",
    "    print (\"Your guess is too high\")"
   ]
  },
  {
   "cell_type": "code",
   "execution_count": 2,
   "metadata": {},
   "outputs": [
    {
     "name": "stdout",
     "output_type": "stream",
     "text": [
      "Please enter your guess: 54\n",
      "Your guess is too low\n",
      "\n",
      "Sorry you lost\n",
      "\n",
      "The number was:  96\n"
     ]
    }
   ],
   "source": [
    "#Some additions to make it more interactive - V1.0.1\n",
    "import random\n",
    " \n",
    "hidden = random.randrange(1, 201)\n",
    "# print hidden\n",
    " \n",
    "guess = int(input(\"Please enter your guess: \"))\n",
    " \n",
    "if guess == hidden:\n",
    "    print (\"Hit!\")\n",
    "    print(\"\\n Congratulations you won\\n\")\n",
    "elif guess < hidden:\n",
    "    print (\"Your guess is too low\")\n",
    "    print(\"\\nSorry you lost\\n\")\n",
    "    print(\"The number was: \",hidden)\n",
    "else:\n",
    "    print (\"Your guess is too high\")\n",
    "    print(\"\\nSorry you lost\\n\")\n",
    "    print(\"The number was: \",hidden)"
   ]
  },
  {
   "cell_type": "code",
   "execution_count": 3,
   "metadata": {},
   "outputs": [
    {
     "name": "stdout",
     "output_type": "stream",
     "text": [
      "Please enter your guess: 45\n",
      "Your guess is too high\n",
      "Please enter your guess: 30\n",
      "Your guess is too high\n",
      "Please enter your guess: 20\n",
      "Your guess is too low\n",
      "\n",
      "Beter Luck next time\n",
      "\n",
      "\n",
      "The number is:  21\n"
     ]
    }
   ],
   "source": [
    "#Adding chance(s) for the player - V1.1.1\n",
    "import random\n",
    " \n",
    "hidden = random.randrange(1, 201)\n",
    "# print hidden\n",
    "\n",
    "for i in range(3):    \n",
    "    guess = int(input(\"Please enter your guess: \"))\n",
    "\n",
    "    if guess == hidden:\n",
    "        print (\"Hit!\")\n",
    "        print(\"\\n Congratulations you won\\n\")\n",
    "        break\n",
    "    elif guess < hidden:\n",
    "        print (\"Your guess is too low\")\n",
    "    else:\n",
    "        print (\"Your guess is too high\")\n",
    "if guess == hidden:\n",
    "    print(\"\\nCongratilations you won\\n\")\n",
    "else:\n",
    "    print(\"\\nBeter Luck next time\\n\")\n",
    "    print(\"\\nThe number is: \",hidden)"
   ]
  },
  {
   "cell_type": "code",
   "execution_count": null,
   "metadata": {},
   "outputs": [],
   "source": [
    "#Alternate Version - V2\n",
    "#Computer will now guess ^-^\n",
    "\n",
    "import random\n",
    "\n",
    "l=1\n",
    "h=201\n",
    "\n",
    "print(\"Think of a number from 1-200 and I'll guess it.\")\n",
    "go = str(input(\"Enter 'Go' to start: \"))\n",
    "if go == 'go' or go == 'GO' or go == 'Go' or go == 'gO':\n",
    "    for i in range(3):\n",
    "        g1 = random.randrange(l,h)\n",
    "        print(\"My guess is: \",g1)\n",
    "        c = str(input(\"Is my guess a 'hit', 'lower' or 'higher' than your number?: \"))\n",
    "        if c == 'hit':\n",
    "            print(\"Yeah! I won\")\n",
    "        elif c == 'lower' or 'low':\n",
    "            l=g1"
   ]
  }
 ],
 "metadata": {
  "kernelspec": {
   "display_name": "Python 3",
   "language": "python",
   "name": "python3"
  },
  "language_info": {
   "codemirror_mode": {
    "name": "ipython",
    "version": 3
   },
   "file_extension": ".py",
   "mimetype": "text/x-python",
   "name": "python",
   "nbconvert_exporter": "python",
   "pygments_lexer": "ipython3",
   "version": "3.7.6"
  }
 },
 "nbformat": 4,
 "nbformat_minor": 4
}
